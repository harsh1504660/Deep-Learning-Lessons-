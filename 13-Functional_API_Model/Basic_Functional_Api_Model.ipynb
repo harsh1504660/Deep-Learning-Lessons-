{
  "nbformat": 4,
  "nbformat_minor": 0,
  "metadata": {
    "colab": {
      "provenance": []
    },
    "kernelspec": {
      "name": "python3",
      "display_name": "Python 3"
    },
    "language_info": {
      "name": "python"
    }
  },
  "cells": [
    {
      "cell_type": "code",
      "execution_count": 1,
      "metadata": {
        "id": "mIdgEiFs8_f-"
      },
      "outputs": [],
      "source": [
        "from keras.models import Model"
      ]
    },
    {
      "cell_type": "code",
      "source": [
        "model = Model(inputs=x , outputs=[output1,output2])"
      ],
      "metadata": {
        "id": "qtD347vM9FXe"
      },
      "execution_count": 9,
      "outputs": []
    },
    {
      "cell_type": "code",
      "source": [
        "from keras.layers import *"
      ],
      "metadata": {
        "id": "qC-Yddv-9H58"
      },
      "execution_count": 10,
      "outputs": []
    },
    {
      "cell_type": "code",
      "source": [
        "x = Input(shape=(3,))"
      ],
      "metadata": {
        "id": "zHlqWGEW9Rhe"
      },
      "execution_count": 11,
      "outputs": []
    },
    {
      "cell_type": "code",
      "source": [
        "hidden1 = Dense(128,activation='relu')(x)\n",
        "hidden2 = Dense(64,activation='relu')(hidden1)\n",
        "\n",
        "output1 = Dense(1,activation='linear')(hidden2)\n",
        "output2 = Dense(1,activation='relu')(hidden2)"
      ],
      "metadata": {
        "id": "-5h7THSQ9Z_u"
      },
      "execution_count": 12,
      "outputs": []
    },
    {
      "cell_type": "code",
      "source": [
        "model.summary()"
      ],
      "metadata": {
        "colab": {
          "base_uri": "https://localhost:8080/"
        },
        "id": "i-hxmLsR-G70",
        "outputId": "c9f47766-587e-49b8-f7e6-db7bc0047e0b"
      },
      "execution_count": 13,
      "outputs": [
        {
          "output_type": "stream",
          "name": "stdout",
          "text": [
            "Model: \"model_1\"\n",
            "__________________________________________________________________________________________________\n",
            " Layer (type)                   Output Shape         Param #     Connected to                     \n",
            "==================================================================================================\n",
            " input_2 (InputLayer)           [(None, 3)]          0           []                               \n",
            "                                                                                                  \n",
            " dense_4 (Dense)                (None, 128)          512         ['input_2[0][0]']                \n",
            "                                                                                                  \n",
            " dense_5 (Dense)                (None, 64)           8256        ['dense_4[0][0]']                \n",
            "                                                                                                  \n",
            " dense_6 (Dense)                (None, 1)            65          ['dense_5[0][0]']                \n",
            "                                                                                                  \n",
            " dense_7 (Dense)                (None, 1)            65          ['dense_5[0][0]']                \n",
            "                                                                                                  \n",
            "==================================================================================================\n",
            "Total params: 8,898\n",
            "Trainable params: 8,898\n",
            "Non-trainable params: 0\n",
            "__________________________________________________________________________________________________\n"
          ]
        }
      ]
    },
    {
      "cell_type": "code",
      "source": [
        "from keras.utils import plot_model"
      ],
      "metadata": {
        "id": "UvzFn2pF-VR5"
      },
      "execution_count": 14,
      "outputs": []
    },
    {
      "cell_type": "code",
      "source": [
        "plot_model(model)"
      ],
      "metadata": {
        "colab": {
          "base_uri": "https://localhost:8080/",
          "height": 369
        },
        "id": "Dp9bFhCp-cr7",
        "outputId": "6e2633c9-bc2c-42f3-f3c5-35008f971462"
      },
      "execution_count": 15,
      "outputs": [
        {
          "output_type": "execute_result",
          "data": {
            "image/png": "[encoded data removed]",
            "text/plain": [
              "<IPython.core.display.Image object>"
            ]
          },
          "metadata": {},
          "execution_count": 15
        }
      ]
    },
    {
      "cell_type": "markdown",
      "source": [
        "# Example 2"
      ],
      "metadata": {
        "id": "fP7UO9Yf-7Pg"
      }
    },
    {
      "cell_type": "code",
      "source": [
        "# define two sets of input\n",
        "inputA= Input(shape=(32,))\n",
        "inputB = Input(shape=(128,))"
      ],
      "metadata": {
        "id": "ASParoCP-_E3"
      },
      "execution_count": 16,
      "outputs": []
    },
    {
      "cell_type": "code",
      "source": [
        "# the first branch operates on the first input\n",
        "x = Dense(8,activation='relu')(inputA)\n",
        "x1 = Dense(4,activation='relu')((x))"
      ],
      "metadata": {
        "id": "oYrBXfsD_TbP"
      },
      "execution_count": 18,
      "outputs": []
    },
    {
      "cell_type": "code",
      "source": [
        "# the second branch operates on a second input\n",
        "y = Dense(64,activation='relu')(inputB)\n",
        "y1 = Dense(32,activation='relu')(y)\n",
        "y2 = Dense(4,activation='relu')(y1)"
      ],
      "metadata": {
        "id": "Monyzp6p_v1o"
      },
      "execution_count": 19,
      "outputs": []
    },
    {
      "cell_type": "code",
      "source": [
        "#combine the output of the two branches\n",
        "combines = concatenate([x1,y2])"
      ],
      "metadata": {
        "id": "cjw7TOY2AIcx"
      },
      "execution_count": 20,
      "outputs": []
    },
    {
      "cell_type": "code",
      "source": [
        "# apply the FC layers and then a regression prediction\n",
        "#on combines outputs\n",
        "\n",
        "z = Dense(2,activation='relu')(combines)\n",
        "z1 = Dense(1,activation='linear')(z)"
      ],
      "metadata": {
        "id": "uja88ehIAUJk"
      },
      "execution_count": 21,
      "outputs": []
    },
    {
      "cell_type": "code",
      "source": [
        "# the model will accept the inputs from two branches and then output a single value\n",
        "model = Model(inputs=[inputA,inputB],outputs=z1)"
      ],
      "metadata": {
        "id": "n46q2lC_Az8k"
      },
      "execution_count": 22,
      "outputs": []
    },
    {
      "cell_type": "code",
      "source": [
        "plot_model(model)"
      ],
      "metadata": {
        "colab": {
          "base_uri": "https://localhost:8080/",
          "height": 661
        },
        "id": "vvN9BmJQBIBh",
        "outputId": "9708082b-af32-4cd0-f29a-9d0350a25dd1"
      },
      "execution_count": 23,
      "outputs": [
        {
          "output_type": "execute_result",
          "data": {
            "image/png": "[encoded data removed]",
            "text/plain": [
              "<IPython.core.display.Image object>"
            ]
          },
          "metadata": {},
          "execution_count": 23
        }
      ]
    },
    {
      "cell_type": "code",
      "source": [],
      "metadata": {
        "id": "4saQHrj4BKxh"
      },
      "execution_count": null,
      "outputs": []
    }
  ]
}